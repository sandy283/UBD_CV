{
 "cells": [
  {
   "cell_type": "markdown",
   "metadata": {},
   "source": [
    "from PIL import Image\n",
    "import numpy as np"
   ]
  },
  {
   "cell_type": "markdown",
   "metadata": {},
   "source": [
    "np.unique(np.array(Image.open(\"mask_patch/1_4.jpg\")))"
   ]
  },
  {
   "cell_type": "markdown",
   "metadata": {},
   "source": [
    "import os\n",
    "from PIL import Image\n",
    "import numpy as np\n",
    "\n",
    "\n",
    "def has_multiple_unique_pixels(image_path):\n",
    "    image = Image.open(image_path)\n",
    "    image_array = np.array(image)\n",
    "    unique_values = np.unique(image_array)\n",
    "    return len(unique_values) > 1\n",
    "\n",
    "output_folder = \"selected_masks\"\n",
    "os.makedirs(output_folder, exist_ok=True)\n",
    "\n",
    "input_folder = \"mask_patch\"\n",
    "\n",
    "for filename in os.listdir(input_folder):\n",
    "    if filename.endswith(\".jpg\"):\n",
    "        input_image_path = os.path.join(input_folder, filename)\n",
    "\n",
    "        if has_multiple_unique_pixels(input_image_path):\n",
    "            output_image_path = os.path.join(output_folder, filename)\n",
    "            os.makedirs(os.path.dirname(output_image_path), exist_ok=True)\n",
    "            with open(input_image_path, 'rb') as f:\n",
    "                with open(output_image_path, 'wb') as f_out:\n",
    "                    f_out.write(f.read())"
   ]
  },
  {
   "cell_type": "markdown",
   "metadata": {},
   "source": [
    "import shutil\n",
    "\n",
    "selected_masks_folder = \"selected_masks\"\n",
    "image_patch_folder = \"image_patch\"\n",
    "selected_images_folder = \"selected_images\"\n",
    "\n",
    "\n",
    "mask_filenames = os.listdir(selected_masks_folder)\n",
    "\n",
    "for filename in mask_filenames:\n",
    "\n",
    "    image_filename = os.path.splitext(filename)[0]\n",
    "\n",
    "    image_path = os.path.join(image_patch_folder, f\"{image_filename}.jpg\")\n",
    "    if os.path.exists(image_path):\n",
    "        selected_image_path = os.path.join(selected_images_folder, f\"{image_filename}.jpg\")\n",
    "        shutil.copy(image_path, selected_image_path)\n"
   ]
  },
  {
   "cell_type": "markdown",
   "metadata": {},
   "source": [
    "## Created the Final selection fo the images"
   ]
  },
  {
   "cell_type": "code",
   "execution_count": 8,
   "metadata": {},
   "outputs": [],
   "source": [
    "## Attention U-Net"
   ]
  },
  {
   "cell_type": "code",
   "execution_count": null,
   "metadata": {},
   "outputs": [
    {
     "ename": "",
     "evalue": "",
     "output_type": "error",
     "traceback": [
      "\u001b[1;31mThe kernel failed to start due to the missing module 'pygments.formatters'. Consider installing this module.\n",
      "\u001b[1;31mClick <a href='https://aka.ms/kernelFailuresMissingModule'>here</a> for more info."
     ]
    }
   ],
   "source": []
  },
  {
   "cell_type": "code",
   "execution_count": null,
   "metadata": {},
   "outputs": [],
   "source": [
    "from tensorflow.keras.optimizers import Adam\n",
    "import tensorflow as tf\n",
    "from datetime import datetime\n",
    "import cv2\n",
    "from PIL import Image\n",
    "from keras import backend, optimizers"
   ]
  },
  {
   "cell_type": "code",
   "execution_count": null,
   "metadata": {},
   "outputs": [],
   "source": []
  }
 ],
 "metadata": {
  "kernelspec": {
   "display_name": "Python 3",
   "language": "python",
   "name": "python3"
  },
  "language_info": {
   "codemirror_mode": {
    "name": "ipython",
    "version": 3
   },
   "file_extension": ".py",
   "mimetype": "text/x-python",
   "name": "python",
   "nbconvert_exporter": "python",
   "pygments_lexer": "ipython3",
   "version": "0.0.0"
  }
 },
 "nbformat": 4,
 "nbformat_minor": 2
}
